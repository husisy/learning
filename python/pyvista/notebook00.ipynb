{
 "cells": [
  {
   "cell_type": "code",
   "execution_count": null,
   "id": "f598286d-f293-4872-a977-c73ecfdf4a17",
   "metadata": {},
   "outputs": [],
   "source": [
    "import numpy as np\n",
    "\n",
    "import pyvista\n",
    "\n",
    "np_rng = np.random.default_rng()"
   ]
  },
  {
   "cell_type": "markdown",
   "id": "e8b08df1-8b92-49fc-8cd8-e17791969015",
   "metadata": {},
   "source": [
    "## example"
   ]
  },
  {
   "cell_type": "code",
   "execution_count": null,
   "id": "a9b9f9ad-e1ae-49e8-a3d5-4071c805e7d5",
   "metadata": {},
   "outputs": [],
   "source": [
    "#pyvista.core.pointset.PolyData\n",
    "# data = pyvista.examples.download_pine_roots()\n",
    "data = pyvista.examples.download_bunny()\n",
    "# data = pyvista.examples.download_lidar()\n",
    "# data = pyvista.examples.download_saddle_surface()\n",
    "# data = pyvista.examples.download_doorman()\n",
    "# data = pyvista.examples.download_teapot()\n",
    "# data = pyvista.examples.download_cad_model()\n",
    "data.plot(cpos='xy') #color='tan', show_edges=True"
   ]
  },
  {
   "cell_type": "code",
   "execution_count": null,
   "id": "299bc007-9120-458f-8e53-37acb841e9f1",
   "metadata": {
    "scrolled": true
   },
   "outputs": [],
   "source": [
    "data = pyvista.examples.download_gears() #pyvista.core.pointset.PolyData\n",
    "bodies = data.split_bodies() #pyvista.core.composite.MultiBlock\n",
    "bodies.plot(cmap='jet', multi_colors=True, smooth_shading=True, split_sharp_edges=True)"
   ]
  },
  {
   "cell_type": "code",
   "execution_count": null,
   "id": "cb7c08da-9cdd-40b4-97db-1ecbd2581f24",
   "metadata": {
    "scrolled": true
   },
   "outputs": [],
   "source": [
    "data = pyvista.examples.download_bolt_nut() #pyvista.core.composite.MultiBlock\n",
    "# data.plot(volume=True)\n",
    "\n",
    "pl = pyvista.Plotter()\n",
    "pl.add_volume(data, cmap=\"coolwarm\", opacity=\"sigmoid_5\", show_scalar_bar=False)\n",
    "pl.camera_position = [(194.6, -141.8, 182.0), (34.5, 61.0, 32.5), (-0.229, 0.45, 0.86)]\n",
    "pl.show()"
   ]
  },
  {
   "cell_type": "markdown",
   "id": "51acd0f5-0ebe-41f3-bd20-2538f4c016b4",
   "metadata": {},
   "source": [
    "### Image Data"
   ]
  },
  {
   "cell_type": "code",
   "execution_count": null,
   "id": "153b4f52-c28b-4ddd-a018-39932141a076",
   "metadata": {},
   "outputs": [],
   "source": [
    "data = pyvista.examples.download_knee_full()\n",
    "pl = pyvista.Plotter()\n",
    "pl.add_volume(data, cmap=\"bone\", opacity=\"sigmoid\")\n",
    "pl.show()"
   ]
  },
  {
   "cell_type": "code",
   "execution_count": null,
   "id": "af7b5eb8-0e4b-4fb1-8957-48da66d4a8ae",
   "metadata": {
    "scrolled": true
   },
   "outputs": [],
   "source": [
    "data = pyvista.Wavelet()\n",
    "# data = pyvista.examples.download_frog() #pyvista.core.grid.ImageData\n",
    "data.plot(volume=True)"
   ]
  },
  {
   "cell_type": "markdown",
   "id": "edf8254d-9884-4cda-9dd1-a0633fb352d9",
   "metadata": {},
   "source": [
    "## load from file"
   ]
  },
  {
   "cell_type": "code",
   "execution_count": null,
   "id": "560b3e8f-0c73-482c-b3e4-da047ef48297",
   "metadata": {},
   "outputs": [],
   "source": [
    "filename = pyvista.examples.planefile #site-packages/pyvista/examples/airplane.ply\n",
    "mesh = pyvista.read(filename)\n",
    "# mesh.points #(np,float32,(1335,3))\n",
    "# mesh.faces #(np,int64,9808)\n",
    "# mesh.faces.reshape(-1, 4)[:, 1:]\n",
    "mesh.plot()"
   ]
  },
  {
   "cell_type": "code",
   "execution_count": null,
   "id": "55c9906f-7693-4734-80ac-fbc2134b7495",
   "metadata": {},
   "outputs": [],
   "source": [
    "# https://www.thingiverse.com/thing:5412753\n",
    "data = pyvista.read('data/P_shelf_pin.stl') #pyvista.core.pointset.PolyData\n",
    "data.plot()"
   ]
  },
  {
   "cell_type": "code",
   "execution_count": null,
   "id": "4cc9ae4a-8670-4055-aef8-a60c10f15d21",
   "metadata": {},
   "outputs": [],
   "source": [
    "# https://github.com/naucoin/VTKData/blob/master/Data/ironProt.vtk\n",
    "data = pyvista.read('data/ironProt.vtk') #pyvista.core.grid.ImageData\n",
    "data.plot(volume=True)"
   ]
  },
  {
   "cell_type": "markdown",
   "id": "dcf0112c-26f8-4e03-8dc7-fdd4a51befb1",
   "metadata": {},
   "source": [
    "## misc"
   ]
  },
  {
   "cell_type": "code",
   "execution_count": null,
   "id": "eef3f7aa-8d06-47aa-a375-3d6ea84d3ee6",
   "metadata": {},
   "outputs": [],
   "source": [
    "np0 = np_rng.uniform(size=(1000, 3))\n",
    "pc = pyvista.PolyData(np0)\n",
    "pc.plot(style='points', scalars=np0[:, 2], point_size=5.0, cmap='jet')"
   ]
  },
  {
   "cell_type": "markdown",
   "id": "2fab3831-f8f5-4a6e-8415-c48267666f87",
   "metadata": {},
   "source": [
    "## basic object"
   ]
  },
  {
   "cell_type": "code",
   "execution_count": null,
   "id": "94b81681-f8e8-4e1f-85cb-e2392e66fc07",
   "metadata": {},
   "outputs": [],
   "source": [
    "Z = {'cyl':pyvista.Cylinder(), 'arrow':pyvista.Arrow(), 'sphere':pyvista.Sphere(),\n",
    "         'plane':pyvista.Plane(), 'line':pyvista.Line(), 'box':pyvista.Box(),\n",
    "        'cone':pyvista.Cone(), 'poly':pyvista.Polygon(), 'disc':pyvista.Disc()}\n",
    "p = pyvista.Plotter(shape=(3, 3))\n",
    "p.subplot(0, 0)\n",
    "p.add_mesh(Z['cyl'], color=\"tan\", show_edges=True)\n",
    "p.subplot(0, 1)\n",
    "p.add_mesh(Z['arrow'], color=\"tan\", show_edges=True)\n",
    "p.subplot(0, 2)\n",
    "p.add_mesh(Z['sphere'], color=\"tan\", show_edges=True)\n",
    "# Middle row\n",
    "p.subplot(1, 0)\n",
    "p.add_mesh(Z['plane'], color=\"tan\", show_edges=True)\n",
    "p.subplot(1, 1)\n",
    "p.add_mesh(Z['line'], color=\"tan\", line_width=3)\n",
    "p.subplot(1, 2)\n",
    "p.add_mesh(Z['box'], color=\"tan\", show_edges=True)\n",
    "# Bottom row\n",
    "p.subplot(2, 0)\n",
    "p.add_mesh(Z['cone'], color=\"tan\", show_edges=True)\n",
    "p.subplot(2, 1)\n",
    "p.add_mesh(Z['poly'], color=\"tan\", show_edges=True)\n",
    "p.subplot(2, 2)\n",
    "p.add_mesh(Z['disc'], color=\"tan\", show_edges=True)\n",
    "p.show()\n",
    "# p.export_html(\"a_basic.html\")"
   ]
  },
  {
   "cell_type": "code",
   "execution_count": null,
   "id": "9c6873b2-94b0-4fbb-8b9e-a78cb02c90da",
   "metadata": {},
   "outputs": [],
   "source": [
    "sphere = pyvista.Sphere()\n",
    "sphere.plot(jupyter_backend='trame') #trame(default) server client\n",
    "\n",
    "## equivalent\n",
    "# sphere = pyvista.Sphere()\n",
    "# plotter = pyvista.Plotter(notebook=True)\n",
    "# plotter.add_mesh(sphere)\n",
    "# plotter.show(jupyter_backend='trame')"
   ]
  },
  {
   "cell_type": "code",
   "execution_count": null,
   "id": "27776dcb-fa3a-486c-8944-2fb258df07bb",
   "metadata": {},
   "outputs": [],
   "source": [
    "fig = pyvista.Plotter()\n",
    "fig.add_mesh(pyvista.ParametricKlein())\n",
    "fig.show()"
   ]
  },
  {
   "cell_type": "code",
   "execution_count": null,
   "id": "e982579b-f059-4b31-b585-c86935ae812d",
   "metadata": {},
   "outputs": [],
   "source": [
    "fig = pyvista.Plotter()\n",
    "fig.add_mesh(pyvista.ParametricRandomHills().elevation())\n",
    "fig.show()"
   ]
  },
  {
   "cell_type": "code",
   "execution_count": null,
   "id": "95d34411-b1fb-449a-bf58-4efe3e418c35",
   "metadata": {},
   "outputs": [],
   "source": [
    "fig = pyvista.Plotter()\n",
    "fig.add_volume(pyvista.Wavelet())\n",
    "fig.show()"
   ]
  },
  {
   "cell_type": "code",
   "execution_count": null,
   "id": "7b20a3be-ba04-45a7-a91c-4539cf4ca954",
   "metadata": {},
   "outputs": [],
   "source": []
  }
 ],
 "metadata": {
  "kernelspec": {
   "display_name": "Python 3 (ipykernel)",
   "language": "python",
   "name": "python3"
  },
  "language_info": {
   "codemirror_mode": {
    "name": "ipython",
    "version": 3
   },
   "file_extension": ".py",
   "mimetype": "text/x-python",
   "name": "python",
   "nbconvert_exporter": "python",
   "pygments_lexer": "ipython3",
   "version": "3.12.3"
  }
 },
 "nbformat": 4,
 "nbformat_minor": 5
}
