{
 "cells": [
  {
   "cell_type": "markdown",
   "id": "93b6d9b9-94ff-4d89-8e00-d4a9eb6f8ca2",
   "metadata": {},
   "source": [
    "# Plotting option\n",
    "\n",
    "[pyvista-tutorial-link](https://tutorial.pyvista.org/tutorial/03_figures/index.html)"
   ]
  },
  {
   "cell_type": "code",
   "execution_count": null,
   "id": "45c6766e-522b-492d-a37e-8c38083c24ee",
   "metadata": {},
   "outputs": [],
   "source": [
    "import numpy as np\n",
    "import pyvista\n",
    "\n",
    "np_rng = np.random.default_rng()"
   ]
  },
  {
   "cell_type": "code",
   "execution_count": null,
   "id": "ecea0234-18e0-4e39-b43b-a1c4a2733675",
   "metadata": {},
   "outputs": [],
   "source": [
    "mesh = pyvista.Wavelet()\n",
    "fig = pyvista.Plotter()\n",
    "fig.add_mesh(mesh, cmap='coolwarm', show_edges=True)\n",
    "# fig.show_axes()\n",
    "# fig.show_bounds()\n",
    "fig.show()"
   ]
  },
  {
   "cell_type": "code",
   "execution_count": null,
   "id": "da6a9c90-f304-4818-a21b-6eed5bfdb9bf",
   "metadata": {},
   "outputs": [],
   "source": [
    "mesh = pyvista.examples.download_st_helens().warp_by_scalar()\n",
    "fig = pyvista.Plotter()\n",
    "fig.add_mesh(mesh, cmap='terrain', opacity='linear')\n",
    "fig.show()"
   ]
  },
  {
   "cell_type": "code",
   "execution_count": null,
   "id": "c5202703-ef87-45ec-a8cb-72c64de78244",
   "metadata": {},
   "outputs": [],
   "source": [
    "tmp0 = [\n",
    "    ('tetrahedron', (0, 1, 0)),\n",
    "    ('cube', (0, 0, 0)),\n",
    "    ('octahedron', (0, 2, 0)),\n",
    "    ('dodecahedron', (-1, 0, 0)),\n",
    "    ('icosahedron', (-1, 2, 0)),\n",
    "]\n",
    "object_list = [pyvista.PlatonicSolid(x, radius=0.4, center=y) for x,y in tmp0]\n",
    "fig = pyvista.Plotter(window_size=[1000, 1000])\n",
    "for obj_i in object_list:\n",
    "    fig.add_mesh(obj_i, color='silver', specular=1.0, specular_power=10)\n",
    "fig.view_vector((5.0, 2, 3))\n",
    "fig.add_floor('-z', lighting=True, color='tan', pad=1.0)\n",
    "fig.enable_shadows()\n",
    "fig.show()"
   ]
  },
  {
   "cell_type": "code",
   "execution_count": null,
   "id": "d09d2666-3d6a-45cb-bbf4-67ed996155d8",
   "metadata": {},
   "outputs": [],
   "source": [
    "fig = pyvista.Plotter(shape=(1, 2))\n",
    "fig.subplot(0, 0) #default\n",
    "fig.add_mesh(pyvista.Sphere())\n",
    "fig.subplot(0, 1)\n",
    "fig.add_mesh(pyvista.Cube())\n",
    "fig.show()"
   ]
  },
  {
   "cell_type": "code",
   "execution_count": null,
   "id": "4fc86774-5ae1-49ca-9df9-666f94f4d5a2",
   "metadata": {},
   "outputs": [],
   "source": [
    "mesh = pyvista.Wavelet()\n",
    "fig = pyvista.Plotter(shape=(1, 2))\n",
    "fig.add_mesh(mesh.contour())\n",
    "fig.subplot(0, 1)\n",
    "fig.add_mesh(mesh.slice_orthogonal())\n",
    "fig.link_views()\n",
    "fig.view_isometric()\n",
    "fig.show()"
   ]
  },
  {
   "cell_type": "code",
   "execution_count": null,
   "id": "57e5d11f-5384-4196-97b9-0eae38aaed63",
   "metadata": {},
   "outputs": [],
   "source": [
    "mesh = pyvista.Wavelet()\n",
    "fig = pyvista.Plotter(shape=\"1|3\")\n",
    "# fig.subplot(0) #default\n",
    "fig.add_mesh(mesh)\n",
    "fig.subplot(1)\n",
    "fig.add_mesh(mesh.contour())\n",
    "fig.subplot(2)\n",
    "fig.add_mesh(mesh.slice_orthogonal())\n",
    "fig.subplot(3)\n",
    "fig.add_mesh(mesh.threshold(200))\n",
    "fig.link_views()\n",
    "fig.view_isometric()\n",
    "fig.show()"
   ]
  }
 ],
 "metadata": {
  "kernelspec": {
   "display_name": "Python 3 (ipykernel)",
   "language": "python",
   "name": "python3"
  },
  "language_info": {
   "codemirror_mode": {
    "name": "ipython",
    "version": 3
   },
   "file_extension": ".py",
   "mimetype": "text/x-python",
   "name": "python",
   "nbconvert_exporter": "python",
   "pygments_lexer": "ipython3",
   "version": "3.12.3"
  }
 },
 "nbformat": 4,
 "nbformat_minor": 5
}
