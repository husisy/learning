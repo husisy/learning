{
 "cells": [
  {
   "cell_type": "markdown",
   "id": "7a81f083-2265-4c75-b0b8-bcf881720ca0",
   "metadata": {},
   "source": [
    "# What is a Mesh\n",
    "\n",
    "[pyvista-tutorial](https://tutorial.pyvista.org/tutorial/02_mesh/index.html)"
   ]
  },
  {
   "cell_type": "code",
   "execution_count": null,
   "id": "e5642c79-0f82-4fae-bd05-c1e74aaaed0d",
   "metadata": {},
   "outputs": [],
   "source": [
    "import numpy as np\n",
    "\n",
    "import pyvista\n",
    "\n",
    "np_rng = np.random.default_rng()"
   ]
  },
  {
   "cell_type": "code",
   "execution_count": null,
   "id": "24498c33-807c-461b-9824-b88a50b10b84",
   "metadata": {
    "scrolled": true
   },
   "outputs": [],
   "source": [
    "mesh = pyvista.examples.load_hexbeam() #pyvista.core.pointset.UnstructuredGrid\n",
    "pl = pyvista.Plotter()\n",
    "pl.add_mesh(mesh, show_edges=True, color='white')\n",
    "pl.add_points(mesh.points, color='red', point_size=20)\n",
    "pl.camera_position = [(6.20, 3.00, 7.50), (0.16, 0.13, 2.65), (-0.28, 0.94, -0.21)]\n",
    "pl.show()"
   ]
  },
  {
   "cell_type": "code",
   "execution_count": null,
   "id": "7ea4fad7-2d2b-49e0-9e96-015268622d69",
   "metadata": {},
   "outputs": [],
   "source": [
    "mesh = pyvista.examples.load_hexbeam()\n",
    "mesh.n_cells #40\n",
    "pl = pyvista.Plotter()\n",
    "pl.add_mesh(mesh, show_edges=True, color='white')\n",
    "pl.add_points(mesh.points, color='red', point_size=20)\n",
    "single_cell = mesh.extract_cells(mesh.n_cells - 1)\n",
    "single_cell.points += np.array([0.1, 0.1, 0.1])\n",
    "pl.add_mesh(single_cell, color='pink', edge_color='blue', line_width=5, show_edges=True)\n",
    "pl.camera_position = [(6.20, 3.00, 7.50), (0.16, 0.13, 2.65), (-0.28, 0.94, -0.21)]\n",
    "pl.show()"
   ]
  },
  {
   "cell_type": "code",
   "execution_count": null,
   "id": "ea2c68a2-a08d-43fb-bb81-baad5041c97e",
   "metadata": {},
   "outputs": [],
   "source": [
    "mesh = pyvista.examples.load_hexbeam()\n",
    "mesh.n_points #99\n",
    "mesh.n_cells #40\n",
    "mesh.n_arrays #3\n",
    "mesh.points #(pyvista_ndarray,float64,(99,3))\n",
    "mesh.cells #(np,float64,360)\n",
    "mesh.array_names #['sample_cell_scalars', 'sample_point_scalars', 'VTKorigID']\n",
    "mesh.center #[0.5, 0.5, 2.5]"
   ]
  },
  {
   "cell_type": "code",
   "execution_count": null,
   "id": "1f1e1df7-b6fc-4a63-9844-2cd888d125bc",
   "metadata": {},
   "outputs": [],
   "source": [
    "# point data\n",
    "mesh = pyvista.examples.load_hexbeam()\n",
    "cpos = [(6.20, 3.00, 7.50), (0.16, 0.13, 2.65), (-0.28, 0.94, -0.21)]\n",
    "mesh.point_data['my point values'] = np.array([(x[2]>4.9) for x in mesh.points], dtype=np.int64)*100\n",
    "mesh.plot(scalars='my point values', cpos=cpos, show_edges=True)"
   ]
  },
  {
   "cell_type": "code",
   "execution_count": null,
   "id": "03daa2ba-7f65-4c1d-b2f0-866468bf2050",
   "metadata": {},
   "outputs": [],
   "source": [
    "# cell data\n",
    "mesh = pyvista.examples.load_hexbeam()\n",
    "cpos = [(6.20, 3.00, 7.50), (0.16, 0.13, 2.65), (-0.28, 0.94, -0.21)]\n",
    "mesh.cell_data['my cell values'] = np.arange(mesh.n_cells)\n",
    "mesh.plot(scalars='my cell values', cpos=cpos, show_edges=True)"
   ]
  },
  {
   "cell_type": "code",
   "execution_count": null,
   "id": "0a105097-7fd5-4c63-b94f-ba77cf20d8f3",
   "metadata": {
    "scrolled": true
   },
   "outputs": [],
   "source": [
    "data = pyvista.examples.load_uniform()\n",
    "pl = pyvista.Plotter(shape=(1, 2), border=False)\n",
    "pl.add_mesh(data, scalars='Spatial Point Data', show_edges=True)\n",
    "pl.subplot(0, 1)\n",
    "pl.add_mesh(data, scalars='Spatial Cell Data', show_edges=True)\n",
    "pl.show()"
   ]
  },
  {
   "cell_type": "code",
   "execution_count": null,
   "id": "f2e9edec-8b8b-4845-b474-19fc01ac8770",
   "metadata": {},
   "outputs": [],
   "source": [
    "#field data\n",
    "mesh = pyvista.Cube()\n",
    "mesh.field_data['metadata'] = ['Foo', 'bar']\n",
    "mesh.field_data"
   ]
  },
  {
   "cell_type": "code",
   "execution_count": null,
   "id": "3ff4f24d-6455-4f6c-8c4d-cbc83ebe9d64",
   "metadata": {},
   "outputs": [],
   "source": [
    "data = pyvista.Cube() #cells=6, points=8\n",
    "data"
   ]
  },
  {
   "cell_type": "code",
   "execution_count": null,
   "id": "04eb8b2c-9857-48bb-8017-9eb67edf8cde",
   "metadata": {},
   "outputs": [],
   "source": [
    "cube0 = pyvista.Cube()\n",
    "cube0.cell_data['myscalars'] = range(6)\n",
    "\n",
    "cube1 = pyvista.Cube()\n",
    "cube1.point_data['myscalars'] = range(8)\n",
    "\n",
    "pl = pyvista.Plotter(shape=(1, 2), border_width=1)\n",
    "# by default, the \"active\" scalar is used, so \"scalars=myscalars\" is not necessary\n",
    "pl.add_mesh(cube0, scalars='myscalars', cmap='coolwarm')\n",
    "pl.subplot(0, 1)\n",
    "pl.add_mesh(cube1, scalars='myscalars', cmap='coolwarm')\n",
    "pl.show()"
   ]
  },
  {
   "cell_type": "markdown",
   "id": "2a5fdd2b-2e44-474b-82e6-e61a1aff993e",
   "metadata": {},
   "source": [
    "### Point Grid"
   ]
  },
  {
   "cell_type": "code",
   "execution_count": null,
   "id": "ba8ffd2f-5458-44f5-a9b9-37379826fddc",
   "metadata": {},
   "outputs": [],
   "source": [
    "data = pyvista.examples.download_lidar() #PolyData\n",
    "np0 = data.points[np_rng.integers(0, data.n_points, size=int(0.2*data.n_points))] #(np,float64,(678418,3))\n",
    "data1 = pyvista.PolyData(np0)\n",
    "data1.point_data['elevation'] = np0[:,2]\n",
    "data1.plot(eye_dome_lighting=True) #render_points_as_spheres=True"
   ]
  },
  {
   "cell_type": "code",
   "execution_count": null,
   "id": "dac2ec98-d646-411c-8ef1-c1e4cb547aa7",
   "metadata": {},
   "outputs": [],
   "source": [
    "np0 = np_rng.uniform(0, 1, size=(100, 3))\n",
    "data = pyvista.PolyData(np0)\n",
    "np1 = data.points - data.center\n",
    "np1 /= np.linalg.norm(np1, axis=1, keepdims=True)\n",
    "data['vectors'] = np1\n",
    "\n",
    "arrows = data.glyph(orient='vectors', scale=False, factor=0.15)\n",
    "pl = pyvista.Plotter()\n",
    "pl.add_mesh(data, color='maroon', point_size=10.0, render_points_as_spheres=True)\n",
    "pl.add_mesh(arrows, color='lightblue')\n",
    "# pl.add_point_labels([data.center,], ['Center',], point_color='yellow', point_size=20)\n",
    "pl.show_grid()\n",
    "pl.show()"
   ]
  },
  {
   "cell_type": "markdown",
   "id": "91694c29-5852-4009-8f0a-e0d430fc78f1",
   "metadata": {},
   "source": [
    "## Uniform Grid"
   ]
  },
  {
   "cell_type": "code",
   "execution_count": null,
   "id": "256f33e4-eaba-4cfa-923c-17de28c7d281",
   "metadata": {},
   "outputs": [],
   "source": [
    "# cell data\n",
    "np0 = np.linspace(0, 10, 60).reshape(5,4,3)\n",
    "grid = pyvista.ImageData()\n",
    "grid.dimensions = np.array(np0.shape) + 1 #`shape+1` is to inject np0 on the CELL data\n",
    "grid.origin = (100, 33, 55.6)  # The bottom left corner of the data set\n",
    "grid.spacing = (1, 5, 2)  # These are the cell sizes along each axis\n",
    "grid.cell_data[\"values\"] = np0.flatten(order=\"F\")\n",
    "grid.plot(show_edges=True)"
   ]
  },
  {
   "cell_type": "code",
   "execution_count": null,
   "id": "5b0f6d76-2bb5-4dd7-b34f-d34c89ab9c2a",
   "metadata": {},
   "outputs": [],
   "source": [
    "# point data\n",
    "np0 = np.linspace(0, 10, 60).reshape(5,4,3)\n",
    "grid = pyvista.ImageData()\n",
    "grid.dimensions = np0.shape\n",
    "grid.origin = (100, 33, 55.6)  # The bottom left corner of the data set\n",
    "grid.spacing = (1, 5, 2)  # These are the cell sizes along each axis\n",
    "grid.point_data[\"values\"] = np0.flatten(order=\"F\")\n",
    "grid.plot(show_edges=True)"
   ]
  },
  {
   "cell_type": "markdown",
   "id": "3816f232-9a7e-47a6-922f-dda792b4e711",
   "metadata": {},
   "source": [
    "## Triangulated surface"
   ]
  },
  {
   "cell_type": "code",
   "execution_count": null,
   "id": "69c373af-5d72-4dc2-9140-543c9809447c",
   "metadata": {},
   "outputs": [],
   "source": [
    "data = pyvista.examples.download_bunny_coarse() #pyvista.core.pointset.PolyData\n",
    "pl = pyvista.Plotter()\n",
    "pl.add_mesh(data, show_edges=True, color='white')\n",
    "pl.add_points(data.points, color='red', point_size=20)\n",
    "pl.camera_position = [(0.02, 0.30, 0.73), (0.02, 0.03, -0.022), (-0.03, 0.94, -0.34)]\n",
    "pl.show()"
   ]
  },
  {
   "cell_type": "code",
   "execution_count": null,
   "id": "5276edee-7859-4f3f-a747-6cc90287373d",
   "metadata": {},
   "outputs": [],
   "source": [
    "n = 20\n",
    "x = np.linspace(-200, 200, n) + np_rng.uniform(-5, 5, size=n)\n",
    "y = np.linspace(-200, 200, n) + np_rng.uniform(-5, 5, size=n)\n",
    "xx, yy = np.meshgrid(x, y)\n",
    "zz = 100 * np.exp(-0.5 * ((xx / 100) ** 2.0 + (yy / 100) ** 2.0))\n",
    "points = np.stack([xx.reshape(-1), yy.reshape(-1), zz.reshape(-1)], axis=1)\n",
    "data = pyvista.PolyData(points)\n",
    "data.plot(point_size=15)"
   ]
  },
  {
   "cell_type": "code",
   "execution_count": null,
   "id": "299320c8-70bc-4ea6-9271-42e4738ad57d",
   "metadata": {},
   "outputs": [],
   "source": [
    "surf = data.delaunay_2d()\n",
    "surf.plot(show_edges=True)"
   ]
  },
  {
   "cell_type": "code",
   "execution_count": null,
   "id": "653139f7-af47-43b2-9678-5171c694f5d9",
   "metadata": {},
   "outputs": [],
   "source": [
    "x = np.arange(10, dtype=np.float64)\n",
    "xx, yy, zz = np.meshgrid(x, x, [0])\n",
    "points = np.column_stack((xx.ravel(order=\"F\"), yy.ravel(order=\"F\"), zz.ravel(order=\"F\")))\n",
    "points += np_rng.uniform(0, 0.3, size=(points.shape[0],3))*np.array([1,1,0])\n",
    "cloud = pyvista.PolyData(points)\n",
    "cloud.plot(cpos=\"xy\")"
   ]
  },
  {
   "cell_type": "code",
   "execution_count": null,
   "id": "aca98dad-687f-42c6-846f-91bb1fe57006",
   "metadata": {},
   "outputs": [],
   "source": [
    "surf = cloud.delaunay_2d()\n",
    "surf.plot(cpos=\"xy\", show_edges=True)"
   ]
  },
  {
   "cell_type": "code",
   "execution_count": null,
   "id": "64a9d5b0-3237-4a55-9248-f91b6d005fec",
   "metadata": {},
   "outputs": [],
   "source": [
    "surf = cloud.delaunay_2d(alpha=2)\n",
    "surf.plot(cpos=\"xy\", show_edges=True)"
   ]
  },
  {
   "cell_type": "code",
   "execution_count": null,
   "id": "bafc9486-0c8c-4ebe-8006-5d2e03769aff",
   "metadata": {},
   "outputs": [],
   "source": [
    "pyvista.core.utilities.reader.get_reader?"
   ]
  }
 ],
 "metadata": {
  "kernelspec": {
   "display_name": "Python 3 (ipykernel)",
   "language": "python",
   "name": "python3"
  },
  "language_info": {
   "codemirror_mode": {
    "name": "ipython",
    "version": 3
   },
   "file_extension": ".py",
   "mimetype": "text/x-python",
   "name": "python",
   "nbconvert_exporter": "python",
   "pygments_lexer": "ipython3",
   "version": "3.12.3"
  }
 },
 "nbformat": 4,
 "nbformat_minor": 5
}
