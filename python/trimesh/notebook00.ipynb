{
 "cells": [
  {
   "cell_type": "code",
   "execution_count": null,
   "metadata": {},
   "outputs": [],
   "source": [
    "import os\n",
    "import numpy as np\n",
    "import trimesh\n",
    "\n",
    "hf_data = lambda *x: os.path.join('data', *x)"
   ]
  },
  {
   "cell_type": "code",
   "execution_count": null,
   "metadata": {},
   "outputs": [],
   "source": [
    "trimesh.visual.random_color() #(np,uint8,(4))\n",
    "trimesh.transformations.random_rotation_matrix() #(np,float64,(4,4))"
   ]
  },
  {
   "cell_type": "code",
   "execution_count": null,
   "metadata": {},
   "outputs": [],
   "source": [
    "# process=False: keep the raw data intact, disable any automatic processing\n",
    "mesh = trimesh.load_mesh(hf_data('featuretype.STL')) #, process=False\n",
    "mesh.is_watertight #True\n",
    "mesh.euler_number #-16\n",
    "mesh.volume #11.627733431196749\n",
    "mesh.convex_hull.volume #14.921875\n",
    "mesh.center_mass #array([-7.84284692e-03,  6.18175313e-05,  5.44578555e-01])\n",
    "mesh.moment_inertia #(np,float,(3,3))\n",
    "mesh.vertices #(np,float,(n,3))\n",
    "_ = mesh.facets #(list,(np,int64,(m)))"
   ]
  },
  {
   "cell_type": "code",
   "execution_count": null,
   "metadata": {},
   "outputs": [],
   "source": [
    "mesh.show()"
   ]
  },
  {
   "cell_type": "code",
   "execution_count": null,
   "metadata": {},
   "outputs": [],
   "source": [
    "for facet in mesh.facets:\n",
    "    mesh.visual.face_colors[facet] = trimesh.visual.random_color()\n",
    "mesh.show()"
   ]
  },
  {
   "cell_type": "code",
   "execution_count": null,
   "metadata": {},
   "outputs": [],
   "source": [
    "mesh = trimesh.load_mesh(hf_data('featuretype.STL'))\n",
    "mesh.bounding_box_oriented.volume #17.1875\n",
    "mesh.bounding_cylinder.volume #28.802\n",
    "mesh.bounding_sphere.volume #95.894\n",
    "print(mesh.bounding_box.primitive.extents) #[5, 2.5, 1.375] #an axis aligned bounding box\n",
    "mesh.apply_transform(trimesh.transformations.random_rotation_matrix())\n",
    "print(mesh.bounding_box.primitive.extents) #[2.78384376 1.88308805 5.07889668]\n",
    "print(mesh.bounding_box_oriented.primitive.extents) #[1.375, 2.5, 5] #minimum volume oriented bounding box\n",
    "mesh.bounding_box_oriented.primitive.transform"
   ]
  }
 ],
 "metadata": {
  "kernelspec": {
   "display_name": "Python 3",
   "language": "python",
   "name": "python3"
  },
  "language_info": {
   "codemirror_mode": {
    "name": "ipython",
    "version": 3
   },
   "file_extension": ".py",
   "mimetype": "text/x-python",
   "name": "python",
   "nbconvert_exporter": "python",
   "pygments_lexer": "ipython3",
   "version": "3.12.3"
  }
 },
 "nbformat": 4,
 "nbformat_minor": 2
}
